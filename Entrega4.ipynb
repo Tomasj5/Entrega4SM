{
 "cells": [
  {
   "cell_type": "markdown",
   "id": "16c7850f-3b35-4f63-a0a6-99ef4f35d9f0",
   "metadata": {},
   "source": [
    "# Entrega 4 SM"
   ]
  },
  {
   "cell_type": "code",
   "execution_count": 10,
   "id": "abc653ce-ed91-4c69-881d-96297279a80f",
   "metadata": {
    "tags": []
   },
   "outputs": [],
   "source": [
    "import os"
   ]
  },
  {
   "cell_type": "markdown",
   "id": "9bb77261-95bd-4801-bc51-5eccfd9c8e0f",
   "metadata": {},
   "source": [
    "## Primeros pasos: Cargar el archivo de audio (sonido estéreo vs mono)\n",
    "\n"
   ]
  },
  {
   "cell_type": "code",
   "execution_count": 19,
   "id": "dff2adf9-fc3e-4e52-bcbf-989ed6ef9f0e",
   "metadata": {
    "tags": []
   },
   "outputs": [
    {
     "name": "stdout",
     "output_type": "stream",
     "text": [
      "Prueba\n",
      "<class 'str'>\n"
     ]
    }
   ],
   "source": [
    "audio_input_path=\"Prueba\"\n",
    "print(audio_input_path)\n",
    "print(type(audio_input_path))"
   ]
  },
  {
   "cell_type": "code",
   "execution_count": 17,
   "id": "4176ae3f-a78d-4a40-99ac-931d85e1877d",
   "metadata": {
    "tags": []
   },
   "outputs": [
    {
     "ename": "NameError",
     "evalue": "name 'wavfile' is not defined",
     "output_type": "error",
     "traceback": [
      "\u001b[0;31m---------------------------------------------------------------------------\u001b[0m",
      "\u001b[0;31mNameError\u001b[0m                                 Traceback (most recent call last)",
      "\u001b[0;32m/tmp/ipykernel_82430/2227950693.py\u001b[0m in \u001b[0;36m<module>\u001b[0;34m\u001b[0m\n\u001b[1;32m      1\u001b[0m \u001b[0mfilename\u001b[0m \u001b[0;34m=\u001b[0m \u001b[0mos\u001b[0m\u001b[0;34m.\u001b[0m\u001b[0mpath\u001b[0m\u001b[0;34m.\u001b[0m\u001b[0mjoin\u001b[0m\u001b[0;34m(\u001b[0m\u001b[0maudio_input_path\u001b[0m\u001b[0;34m,\u001b[0m \u001b[0;34m'sample1_stereo.wav'\u001b[0m\u001b[0;34m)\u001b[0m\u001b[0;34m\u001b[0m\u001b[0;34m\u001b[0m\u001b[0m\n\u001b[0;32m----> 2\u001b[0;31m \u001b[0msample_rate\u001b[0m\u001b[0;34m,\u001b[0m \u001b[0maudio_data\u001b[0m \u001b[0;34m=\u001b[0m \u001b[0mwavfile\u001b[0m\u001b[0;34m.\u001b[0m\u001b[0mread\u001b[0m\u001b[0;34m(\u001b[0m\u001b[0mfilename\u001b[0m\u001b[0;34m)\u001b[0m\u001b[0;34m\u001b[0m\u001b[0;34m\u001b[0m\u001b[0m\n\u001b[0m\u001b[1;32m      3\u001b[0m \u001b[0mprint\u001b[0m\u001b[0;34m(\u001b[0m\u001b[0;34mf'Frecuencia de muestreo (sample rate): {sample_rate/1000} kHz'\u001b[0m\u001b[0;34m)\u001b[0m\u001b[0;34m\u001b[0m\u001b[0;34m\u001b[0m\u001b[0m\n",
      "\u001b[0;31mNameError\u001b[0m: name 'wavfile' is not defined"
     ]
    }
   ],
   "source": [
    "\n",
    "filename = os.path.join(audio_input_path, 'sample1_stereo.wav')\n",
    "sample_rate, audio_data = wavfile.read(filename)\n",
    "print(f'Frecuencia de muestreo (sample rate): {sample_rate/1000} kHz')\n"
   ]
  },
  {
   "cell_type": "code",
   "execution_count": null,
   "id": "5c579ef2-577f-4d5a-bb13-52f122c8ea06",
   "metadata": {},
   "outputs": [],
   "source": []
  },
  {
   "cell_type": "code",
   "execution_count": null,
   "id": "eac5f178-7f99-49ce-8d56-403401ff78a6",
   "metadata": {},
   "outputs": [],
   "source": []
  }
 ],
 "metadata": {
  "kernelspec": {
   "display_name": "entonrno_conda",
   "language": "python",
   "name": "entonrno_conda"
  },
  "language_info": {
   "codemirror_mode": {
    "name": "ipython",
    "version": 3
   },
   "file_extension": ".py",
   "mimetype": "text/x-python",
   "name": "python",
   "nbconvert_exporter": "python",
   "pygments_lexer": "ipython3",
   "version": "3.10.6"
  }
 },
 "nbformat": 4,
 "nbformat_minor": 5
}
