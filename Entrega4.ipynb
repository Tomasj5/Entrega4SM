{
 "cells": [
  {
   "cell_type": "markdown",
   "id": "16c7850f-3b35-4f63-a0a6-99ef4f35d9f0",
   "metadata": {},
   "source": [
    "# Entrega 4 SM"
   ]
  },
  {
   "cell_type": "markdown",
   "id": "64dc8d78-ba07-46d3-838b-563e55ad16e0",
   "metadata": {},
   "source": [
    "En primer lugar importamos todas las librerias necesarias."
   ]
  },
  {
   "cell_type": "code",
   "execution_count": null,
   "id": "abc653ce-ed91-4c69-881d-96297279a80f",
   "metadata": {
    "tags": []
   },
   "outputs": [],
   "source": [
    "\n",
    "# Importacion.\n",
    "# import librosa\n",
    "from scipy.io import wavfile\n",
    "import IPython\n",
    "import os\n",
    "import numpy as np\n",
    "import matplotlib.pyplot as plt"
   ]
  },
  {
   "cell_type": "markdown",
   "id": "9bb77261-95bd-4801-bc51-5eccfd9c8e0f",
   "metadata": {},
   "source": [
    "## Primeros pasos: Cargar el archivo de audio (sonido estéreo vs mono)\n",
    "\n"
   ]
  },
  {
   "cell_type": "markdown",
   "id": "2933aeeb-a55b-49e4-af9d-b92bdd2f1b50",
   "metadata": {
    "tags": []
   },
   "source": [
    "En este paso cargamos los directorios que se van a utilizar."
   ]
  },
  {
   "cell_type": "code",
   "execution_count": null,
   "id": "4176ae3f-a78d-4a40-99ac-931d85e1877d",
   "metadata": {
    "tags": []
   },
   "outputs": [],
   "source": [
    "# Directorios que usaremos.\n",
    "cwd = os.getcwd()\n",
    "audio_input_path = os.path.join(cwd, os.path.join('audio', '_input'))  # cambiar '_input' por 'examples'\n",
    "audio_output_path = os.path.join(cwd, os.path.join('audio', '_output'))\n",
    "print(f'Directorio con los audios de entrada: {audio_input_path}')\n",
    "print(f'Directorio donde guardaremos los audios generados: {audio_output_path}\\n')"
   ]
  },
  {
   "cell_type": "markdown",
   "id": "5c97a72a-911c-4748-9432-254e8a4ff703",
   "metadata": {},
   "source": [
    "Existen múltiples archivos de audio, como por ejemplo:"
   ]
  },
  {
   "cell_type": "markdown",
   "id": "e26a4dc2-0372-4d2e-a705-124966ee7010",
   "metadata": {},
   "source": [
    ".wav:Es un tipo de archivo sin comprimir. Esto quiere decir que ocupa más pero no pierde calidad."
   ]
  },
  {
   "cell_type": "markdown",
   "id": "3bcf31eb-b581-4b07-aaa3-9a069bad2202",
   "metadata": {
    "tags": []
   },
   "source": [
    ".mp3:Archivo de audio comprimido.Pesa menos pero pierde calidad."
   ]
  },
  {
   "cell_type": "code",
   "execution_count": null,
   "id": "b114a62a-c94f-4f36-a9bc-e3b980d45654",
   "metadata": {
    "tags": []
   },
   "outputs": [],
   "source": [
    "# Cargamos el archivo de audio.\n",
    "filename = os.path.join(cwd, 'interstellar.wav')\n",
    "# audio_data, sample_rate = librosa.load(filename, sr=None, mono=False)\n",
    "sample_rate, audio_data = wavfile.read(filename)\n",
    "print(f'Frecuencia de muestreo (sample rate): {sample_rate/1000} kHz')"
   ]
  },
  {
   "cell_type": "code",
   "execution_count": null,
   "id": "eac5f178-7f99-49ce-8d56-403401ff78a6",
   "metadata": {},
   "outputs": [],
   "source": [
    "IPython.display.Audio(audio_data.T, rate=sample_rate) # .T se pasa únicamente si es audio estéreo."
   ]
  },
  {
   "cell_type": "markdown",
   "id": "87a80e4b-3ed9-4535-87e7-3936122af542",
   "metadata": {},
   "source": [
    "## Mostrar Caracterisicas del audio"
   ]
  },
  {
   "cell_type": "markdown",
   "id": "94137af0-635f-4d68-aeca-d43317954e79",
   "metadata": {},
   "source": [
    "A continuación mostramos el audio en estéreo"
   ]
  },
  {
   "cell_type": "code",
   "execution_count": null,
   "id": "526934bb-56a4-4f7c-89f6-32024a9136b8",
   "metadata": {
    "tags": []
   },
   "outputs": [],
   "source": [
    "# Mostrar informacion (sonido estéreo).\n",
    "print('Datos de audio (estereo):')\n",
    "print(f'- Tamaño:     {audio_data.shape}')\n",
    "print(f'- 1º canal:   {audio_data[:5, 0]}...')\n",
    "print(f'- 2º canal:   {audio_data[:5, 1]}...')\n",
    "print(f'- Resolucion: {type(audio_data[0,0])}\\n')"
   ]
  },
  {
   "cell_type": "markdown",
   "id": "867f4769-3c9d-46e5-974f-574f9e2ba10b",
   "metadata": {},
   "source": [
    "Calculamos la media por canal para obtener un audio mono."
   ]
  },
  {
   "cell_type": "code",
   "execution_count": null,
   "id": "6b9aa72a-89ed-4957-9dad-7ea540c73c8b",
   "metadata": {
    "tags": []
   },
   "outputs": [],
   "source": [
    "# Convertimos a mono mediante la media por canal (simplificacion).\n",
    "new_data_mono = audio_data.mean(axis=1)  # Column-wise.\n",
    "print('Nuevos datos de audio (mono):')\n",
    "print(f'- Nuevo tamaño: {new_data_mono.shape}')\n",
    "print(f'- Canal unico:  {new_data_mono[:5]}...')\n",
    "\n",
    "# Mantenemos la misma resolucion que antes.\n",
    "new_data_mono = new_data_mono.astype(np.int16)\n",
    "print(f'- Resolucion:   {type(new_data_mono[0])}\\n')"
   ]
  },
  {
   "cell_type": "markdown",
   "id": "80993d60-4ba3-4ed8-8fde-5eb8b501ba7f",
   "metadata": {},
   "source": [
    "Procedemos a guardarlo"
   ]
  },
  {
   "cell_type": "markdown",
   "id": "1c198339-e633-4511-86b0-33dfd171a400",
   "metadata": {},
   "source": [
    "# Guardamos el archivo mono a un fichero de tipo wav.\n"
   ]
  },
  {
   "cell_type": "markdown",
   "id": "57d756b1-d986-401a-9f42-3eff04f93abb",
   "metadata": {
    "tags": []
   },
   "source": [
    "wavfile.write(\n",
    "    filename=os.path.join(cwd, 'sample1_mono.wav'),\n",
    "    rate=sample_rate,\n",
    "    data=new_data_mono\n",
    ")"
   ]
  },
  {
   "cell_type": "markdown",
   "id": "e9f7aa65-318e-4aae-b5fe-6cb0e3764298",
   "metadata": {
    "tags": []
   },
   "source": [
    "Escuchamos el audio de nuevo para comprobar cambios."
   ]
  },
  {
   "cell_type": "code",
   "execution_count": null,
   "id": "462dc2da-e6f0-4910-a294-f9912ae4b121",
   "metadata": {
    "tags": []
   },
   "outputs": [],
   "source": [
    "IPython.display.Audio(new_data_mono, rate=sample_rate)"
   ]
  },
  {
   "cell_type": "markdown",
   "id": "cd678b57-5fd6-43b6-bfa1-a5c6dfea50ca",
   "metadata": {},
   "source": [
    "Los tipos de sonido son:"
   ]
  },
  {
   "cell_type": "markdown",
   "id": "6aa5ef0e-eb62-4e8c-a25b-c4f2e9fc33a7",
   "metadata": {},
   "source": [
    "Mono:Podemos apreciar que se escucha los mismo en cada salida de auricular."
   ]
  },
  {
   "cell_type": "markdown",
   "id": "e49372e8-1da8-40a3-b6a8-096768268443",
   "metadata": {
    "tags": []
   },
   "source": [
    "Estéreo:El sonido es distinto por cada salida del auricular."
   ]
  },
  {
   "cell_type": "markdown",
   "id": "867e4ff8-31e4-4004-95e5-0b0d537b2bf5",
   "metadata": {},
   "source": [
    "Comprobamos lo que ocupa cada archivo"
   ]
  },
  {
   "cell_type": "code",
   "execution_count": null,
   "id": "0c3dbe07-a9ae-4c4d-aea0-ccc5a6f6597b",
   "metadata": {
    "tags": []
   },
   "outputs": [],
   "source": [
    "!ls -sh interstellar.wav\n",
    "!ls -sh sample1_mono.wav"
   ]
  },
  {
   "cell_type": "markdown",
   "id": "d6c5668d-dc6b-4b7b-8343-04679d7b56a0",
   "metadata": {},
   "source": [
    "El tamaño, es practicamente la mitad."
   ]
  },
  {
   "cell_type": "code",
   "execution_count": null,
   "id": "2bf14ce0-8ed6-4876-944c-76b28c37300b",
   "metadata": {
    "tags": []
   },
   "outputs": [],
   "source": [
    "print(f'Frecuencia de muestreo (sample rate): {sample_rate/1000} kHz\\n')"
   ]
  },
  {
   "cell_type": "markdown",
   "id": "762bef03-663a-4a59-970d-dbaa63ad8cb1",
   "metadata": {},
   "source": [
    "# Toma de muestras de audio"
   ]
  },
  {
   "cell_type": "markdown",
   "id": "be14b6d3-fc65-42cc-9174-80ca32b22402",
   "metadata": {},
   "source": [
    "Muestra:Una muestra es un istante de tiempo concreto de una onda"
   ]
  },
  {
   "cell_type": "markdown",
   "id": "c3267d0e-5059-4507-a2bf-da83ef620994",
   "metadata": {},
   "source": [
    "Amplitud de onda: Podemos decir que es el alargamiento, ensanchamiento y distension que toma una onda"
   ]
  },
  {
   "cell_type": "markdown",
   "id": "ae63a293-50f7-4822-8407-f3c3b3497cbd",
   "metadata": {},
   "source": [
    "Fecuencia de muestreo:Supone la cantidad de muestras que tomamos por segundo. A más muestras más probable es que replique la oda original. Se mide en HZ y a mayor frecuencia, mayor cantidad de detalles."
   ]
  },
  {
   "cell_type": "markdown",
   "id": "4a635af4-4305-4bc6-8735-ac66cfff3c2a",
   "metadata": {},
   "source": [
    "Por tanto a mayor frecuencia de muestro,mayor calidad obtenemos, pero como consecuencia tendremos u archivo mucho más pesado."
   ]
  },
  {
   "cell_type": "markdown",
   "id": "847a68b3-584e-4af3-b0cd-8a88a352fe5f",
   "metadata": {},
   "source": [
    "# ¿A qué valor fijamos la frecuencia de muestreo?"
   ]
  },
  {
   "cell_type": "markdown",
   "id": "038574bf-84c0-438b-822f-4a5495c61aa0",
   "metadata": {},
   "source": [
    "La teoría de Nyquist establece que *necesitamos una frecuencia de muestreo igual al doble de la frecuencia más alta de una señal para capturar todas las frecuencias de la misma*.\n",
    "El ciclo de onda singular tiene siempre un valor de amplitud positivo y otro negativo. Necesarias para obtener la longitud de onda de cada ciclo.\n",
    "Como mínimoo deberemos mostrar cada ciclo dos veces."
   ]
  },
  {
   "cell_type": "markdown",
   "id": "1ff17ea8-52d2-45a4-a16f-194b1c9edefa",
   "metadata": {},
   "source": [
    "### Aliasing"
   ]
  },
  {
   "cell_type": "markdown",
   "id": "8c9318b9-3eef-4938-975f-aebae84e2f02",
   "metadata": {},
   "source": [
    "Es cuando la frecuencia de muestreo es inferior al doble de la máxima frecuencia contenida en el espectro de la señal analógica"
   ]
  },
  {
   "cell_type": "markdown",
   "id": "0f77bd0e-4eda-447d-8bee-ca51ad37c22a",
   "metadata": {},
   "source": [
    "### Profundidad de bits"
   ]
  },
  {
   "cell_type": "markdown",
   "id": "9b260c34-f38a-4437-a95b-5185ac913051",
   "metadata": {},
   "source": [
    "Es la resolucion de captura de una señal de audio en relacion a la amplitud."
   ]
  },
  {
   "cell_type": "markdown",
   "id": "9012a0fa-c4b0-4e6b-b588-e74a15c1035c",
   "metadata": {
    "tags": []
   },
   "source": [
    "### Tasa de bits"
   ]
  },
  {
   "cell_type": "markdown",
   "id": "b7210557-23cf-4407-940a-59c34a6d5f90",
   "metadata": {},
   "source": [
    "Es la cantidad de datos consumidos para transmitir la secuencia de audio por unidad de tiempo"
   ]
  },
  {
   "cell_type": "markdown",
   "id": "39f56bda-a7e8-4f58-8c8a-3ac3ebfc3456",
   "metadata": {},
   "source": [
    "# Gráfica con el dominio de tiempo para audio mono y estéreo."
   ]
  },
  {
   "cell_type": "code",
   "execution_count": null,
   "id": "89d02de1-04e1-492a-a187-bf7374cb087d",
   "metadata": {
    "tags": []
   },
   "outputs": [],
   "source": [
    "ampl_values_48 = len(audio_data)"
   ]
  },
  {
   "cell_type": "code",
   "execution_count": null,
   "id": "0b880c5e-5732-4c7a-a47a-0c8066fc2cb7",
   "metadata": {
    "tags": []
   },
   "outputs": [],
   "source": [
    "# Construimos el array para el eje x que representa el tiempo de la grabación.\n",
    "# Tiene la forma: np.arange(Vi, Vf, P). Explicado a continuación.\n",
    "t1 = np.arange(0, ampl_values_48/sample_rate, 1/sample_rate)"
   ]
  },
  {
   "cell_type": "code",
   "execution_count": null,
   "id": "5e255c91-0d9f-45b8-992d-1d9fe3d9b48e",
   "metadata": {},
   "outputs": [],
   "source": [
    "# Creamos la figura.\n",
    "fig, ax = plt.subplots(2, 1, figsize=(12, 6), sharex=True)\n",
    "\n",
    "# Solo mostramos las primeras 50 muestras de amplitud (por claridad).\n",
    "end = 50\n",
    "\n",
    "# Señal a 48 kHz.\n",
    "ax[0].plot(t1[:end], audio_data[:end], marker='X')\n",
    "ax[0].set_title(f'Audio en el dominio del tiempo muestreado a {sample_rate} Hz')\n",
    "ax[0].set_ylabel('Amplitud')\n",
    "ax[0].grid(True)\n",
    "\n",
    "# Señal a 48 kHz.\n",
    "ax[1].plot(t1[:end], new_data_mono[:end], marker='X')\n",
    "ax[1].set_title(f'Audio en el dominio del tiempo muestreado a {sample_rate} Hz')\n",
    "ax[1].set_ylabel('Amplitud')\n",
    "ax[1].grid(True)\n",
    "\n",
    "# Mostramos la figura.\n",
    "plt.tight_layout()\n",
    "plt.show()\n"
   ]
  },
  {
   "cell_type": "markdown",
   "id": "443bdf76-6fd0-42ee-a9d2-4628013d40a5",
   "metadata": {},
   "source": [
    "En esta gráfica, utilizamos los 2 tipos de audio generados anteriormente.\n",
    "La primera onda tiene más precisión debido a que tiene mas muestras. Por lo que es más cercana a la onda original.\n",
    "Con ax[0] y ax[1] tenemos los instantes de tiempos de cada onda."
   ]
  },
  {
   "cell_type": "markdown",
   "id": "56fe3f84-ac0e-40a6-a883-4b04305fc79b",
   "metadata": {},
   "source": [
    "### Análisis de Fourier"
   ]
  },
  {
   "cell_type": "markdown",
   "id": "f1adc41f-9e0d-4495-a076-1e8be6971b26",
   "metadata": {},
   "source": [
    "Se trata de descomponer una señal, con esto obtenemos información de su composición."
   ]
  },
  {
   "cell_type": "markdown",
   "id": "10feb4e1-6ad2-4832-ad3a-d67e2c03b159",
   "metadata": {},
   "source": [
    "### Dominio de la frecuencia: Transformada de Fourier (FFT)"
   ]
  },
  {
   "cell_type": "code",
   "execution_count": null,
   "id": "32c5d31d-d2ef-4bad-ab4e-de6af55483b7",
   "metadata": {
    "tags": []
   },
   "outputs": [],
   "source": [
    "# La longitud del array de datos y el\n",
    "# sample rate (frecuencia de muestreo).\n",
    "n = len(new_data_mono)\n",
    "Fs = sample_rate\n",
    "\n",
    "# Working with stereo audio, there are two channels in the audio data.\n",
    "# Let's retrieve each channel seperately:\n",
    "# ch1 = np.array([data[i][0] for i in range(n)]) #channel 1\n",
    "# ch2 = np.array([data[i][1] for i in range(n)]) #channel 2\n",
    "# We can then perform a Fourier analysis on the first\n",
    "# channel to see what the spectrum looks like.\n",
    "\n",
    "# Calculando la Transformada Rapida de Fourier (FFT) en audio mono.\n",
    "ch_Fourier = np.fft.fft(new_data_mono)  # ch1\n",
    "\n",
    "# Solo miramos frecuencia por debajo de Fs/2\n",
    "# (Nyquist-Shannon) --> Spectrum.\n",
    "abs_ch_Fourier = np.absolute(ch_Fourier[:n//2])\n",
    "\n",
    "# Graficamos.\n",
    "plt.plot(np.linspace(0, Fs/2, n//2), abs_ch_Fourier)\n",
    "plt.ylabel('Amplitud', labelpad=10)\n",
    "plt.xlabel('$f$ (Hz)', labelpad=10)\n",
    "plt.show()"
   ]
  },
  {
   "cell_type": "markdown",
   "id": "68fbbf56-887e-4ab5-b0ab-13b8bbbc2e34",
   "metadata": {},
   "source": [
    "Con esto, eliminamos las ondas que menos aportan, con esto lo que buscamos en que ocupe menor espacio, ya que la suma de las ondas más importantes dan como resultado la onda original.\n",
    "En este caso al eliminar las más residuales, perderemos un poco de calidad pero pesarán menos."
   ]
  },
  {
   "cell_type": "markdown",
   "id": "a079523d-6f50-4085-9bac-ad3e3afe8405",
   "metadata": {},
   "source": [
    "## Energia del espectrograma y frecuencia de corte"
   ]
  },
  {
   "cell_type": "markdown",
   "id": "630249ba-51ed-46b9-b8ef-42097fa9f9b3",
   "metadata": {},
   "source": [
    "Frecuencia umbral:f0\n",
    "Solo nos quedamos con las frecuencias que estén por debajo de dicho valor.\n",
    "El epsilon es la energia del espectro. Es la parte la cual no conservamos.\n",
    "\n"
   ]
  },
  {
   "cell_type": "code",
   "execution_count": null,
   "id": "1c0f4eca-c736-42bc-b46c-ee14443f1b76",
   "metadata": {
    "tags": []
   },
   "outputs": [],
   "source": [
    "# Definimos epsilon: la parte de la energia\n",
    "# del espectro que no conservamos.\n",
    "eps = [1e-5, .02, .041, .063, .086, .101, .123]\n",
    "\n",
    "# Jugamos con los valores de epsilon (CAMBIAD ESTO).\n",
    "eps = eps[1]\n",
    "print(f'Epsilon: {eps}')\n",
    "\n",
    "# Calculamos el valor de corte para esta energia.\n",
    "thr_spec_energy = (1 - eps) * np.sum(abs_ch_Fourier)\n",
    "print(f'Valor de corte para la energia del espectro: {thr_spec_energy}')\n",
    "\n",
    "# Integral de la frecuencia --> energia del espectro.\n",
    "spec_energy = np.cumsum(abs_ch_Fourier)\n",
    "\n",
    "# Mascara (array booleano) que compara el valor\n",
    "# de corte con la energia del espectro.\n",
    "frequencies_to_remove = thr_spec_energy < spec_energy  \n",
    "print(f'Mascara: {frequencies_to_remove}')\n",
    "\n",
    "# La frecuencia f0 por la que cortamos el espectro.\n",
    "f0 = (len(frequencies_to_remove) - np.sum(frequencies_to_remove)) * (Fs/2) / (n//2)\n",
    "print(f'Frecuencia de corte f0 (Hz): {int(f0)}')\n",
    "\n",
    "# Graficamos.\n",
    "plt.axvline(f0, color='r')\n",
    "plt.plot(np.linspace(0, Fs/2, n//2), abs_ch_Fourier)\n",
    "plt.ylabel('Amplitud')\n",
    "plt.xlabel('$f$ (Hz)')\n",
    "plt.show()"
   ]
  },
  {
   "cell_type": "markdown",
   "id": "de4a1627-cafe-4717-ba68-349be5557a2a",
   "metadata": {},
   "source": [
    "## Reducción de la resolución de muestreo (*downsampling*)"
   ]
  },
  {
   "cell_type": "markdown",
   "id": "c5ba8051-3b31-478a-835f-762d44faac53",
   "metadata": {
    "tags": []
   },
   "source": [
    "Se trata de dividir una determinada cantidad de información entre un entero o una fracción racional.\n",
    "Lo que estamos haciendo es utilizar el audio mono y comprimirlo.\n",
    "en data tendremos  la informacion de new_data_mono, que es el audio en mono.\n"
   ]
  },
  {
   "cell_type": "code",
   "execution_count": null,
   "id": "de267825-5910-4ad6-bdd4-170de55e3846",
   "metadata": {
    "tags": []
   },
   "outputs": [],
   "source": [
    "# Definimos los nombres de los audios comprimidos.\n",
    "wav_compressed_file = \"new_data_mono_compressed.wav\"\n",
    "\n",
    "# Calculamos el factor D de downsampling.\n",
    "D = int(Fs / f0)\n",
    "print(f'Factor de downsampling: {D}')\n",
    "\n",
    "# Obtenemos los nuevos datos (slicing with stride).\n",
    "new_data = new_data_mono[::D]\n",
    "\n",
    "# Escribimos los datos a un archivo de tipo wav.\n",
    "wavfile.write(\n",
    "    filename=os.path.join(cwd, wav_compressed_file),\n",
    "    rate=int(Fs/D),\n",
    "    data=new_data\n",
    ")"
   ]
  },
  {
   "cell_type": "code",
   "execution_count": null,
   "id": "c12da3de-f719-49b2-bf2c-c275357a3932",
   "metadata": {
    "tags": []
   },
   "outputs": [],
   "source": [
    "# Cargamos el nuevo archivo.\n",
    "new_sample_rate, new_audio_data = wavfile.read(filename=os.path.join(cwd, wav_compressed_file))"
   ]
  },
  {
   "cell_type": "code",
   "execution_count": null,
   "id": "9d580be3-813d-44ce-84b8-57d7f517965b",
   "metadata": {},
   "outputs": [],
   "source": [
    "IPython.display.Audio(new_audio_data, rate=new_sample_rate)"
   ]
  },
  {
   "cell_type": "code",
   "execution_count": null,
   "id": "80ad7fc7-7878-41c0-b1a5-c105493a82c7",
   "metadata": {
    "tags": []
   },
   "outputs": [],
   "source": [
    "!ls -sh new_data_mono_compressed.wav"
   ]
  },
  {
   "cell_type": "markdown",
   "id": "a129d45a-e4de-4006-8346-f7f267442c3f",
   "metadata": {},
   "source": [
    "## Espectrograma"
   ]
  },
  {
   "cell_type": "markdown",
   "id": "d07a0b78-32a3-4b2e-a370-0c9a843f9aee",
   "metadata": {},
   "source": [
    "El espectrograma es el resultado de calcular el espectro de una señal por ventanas de tiempo de la misma."
   ]
  },
  {
   "cell_type": "code",
   "execution_count": null,
   "id": "af5efa0d-97e1-48f4-9698-a1841d70a3c3",
   "metadata": {
    "tags": []
   },
   "outputs": [],
   "source": [
    "fig, ax = plt.subplots(2, 1, figsize=(12, 8), sharex=True)\n",
    "\n",
    "Pxx, freqs, bins, im = ax[0].specgram(new_data_mono, NFFT=1024, Fs=sample_rate, noverlap=512)\n",
    "ax[0].set_title('Espectograma del audio original')\n",
    "ax[0].set_ylabel('Frecuencia (Hz)')\n",
    "ax[0].grid(True)\n",
    "\n",
    "Pxx, freqs, bins, im = ax[1].specgram(new_audio_data, NFFT=1024, Fs=new_sample_rate, noverlap=512)\n",
    "ax[1].set_title('Espectrograma del audio reducido/comprimido')\n",
    "ax[1].set_xlabel('Tiempo (s)')\n",
    "ax[1].set_ylabel('Frecuencia (Hz)')\n",
    "ax[1].grid(True)\n",
    "\n",
    "plt.tight_layout()\n",
    "plt.show()"
   ]
  },
  {
   "cell_type": "markdown",
   "id": "1cb1904b-d217-475b-82b5-332aebd5b671",
   "metadata": {},
   "source": [
    "Como podemos ver, el primer espectrograma llega a 20000 y en la segunda a 5000, reduce la calidad, pero el tamaño es mucho menor.\n",
    "Al estar el audio comprimido, el espacio es menor que el original.La frecuencia se ve modificada."
   ]
  },
  {
   "cell_type": "markdown",
   "id": "4d8c45b7-790f-4d5a-a096-30cfdb9ed84b",
   "metadata": {},
   "source": [
    "El tamaño de ambos archivos es el siguiente:"
   ]
  },
  {
   "cell_type": "code",
   "execution_count": null,
   "id": "1bdb20ce-ac4d-435c-bd16-8e2533c74029",
   "metadata": {
    "tags": []
   },
   "outputs": [],
   "source": [
    "!ls -sh new_data_mono_compressed.wav\n",
    "!ls -sh sample1_mono.wav"
   ]
  },
  {
   "cell_type": "markdown",
   "id": "aa3d400f-aa51-4b0a-8abf-2c10039912c9",
   "metadata": {},
   "source": [
    "A continuación mostramos los dos audios:"
   ]
  },
  {
   "cell_type": "code",
   "execution_count": null,
   "id": "95d7049a-da2f-428b-8f1e-4d17b9b975a6",
   "metadata": {
    "tags": []
   },
   "outputs": [],
   "source": [
    "IPython.display.Audio(new_audio_data, rate=new_sample_rate)"
   ]
  },
  {
   "cell_type": "code",
   "execution_count": null,
   "id": "463091e1-f175-49ab-867f-94bb8c3fccd3",
   "metadata": {
    "tags": []
   },
   "outputs": [],
   "source": [
    "IPython.display.Audio(new_data_mono, rate=sample_rate)"
   ]
  }
 ],
 "metadata": {
  "kernelspec": {
   "display_name": "entonrno_conda",
   "language": "python",
   "name": "entonrno_conda"
  },
  "language_info": {
   "codemirror_mode": {
    "name": "ipython",
    "version": 3
   },
   "file_extension": ".py",
   "mimetype": "text/x-python",
   "name": "python",
   "nbconvert_exporter": "python",
   "pygments_lexer": "ipython3",
   "version": "3.10.6"
  }
 },
 "nbformat": 4,
 "nbformat_minor": 5
}
